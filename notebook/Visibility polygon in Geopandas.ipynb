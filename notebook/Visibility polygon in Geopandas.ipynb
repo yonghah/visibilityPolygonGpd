{
 "cells": [
  {
   "cell_type": "markdown",
   "metadata": {},
   "source": [
    "## Visibility Polygon in Geopandas\n",
    "\n",
    "This notebook illustrates how to create a visibility polygon from a given point on geopandas framework.\n",
    "\n",
    "The codes are adapted from \n",
    "\n",
    "https://discourse.panda3d.org/t/visibility-polygons/13993/3\n",
    "\n",
    "which is a Python porting of [byronknoll's JavaScript codes](https://github.com/byronknoll/visibility-polygon-js). "
   ]
  },
  {
   "cell_type": "code",
   "execution_count": 1,
   "metadata": {},
   "outputs": [],
   "source": [
    "import sys\n",
    "from shapely.geometry import Polygon\n",
    "import geopandas as gpd\n",
    "import warnings\n",
    "warnings.filterwarnings('ignore')\n",
    "\n",
    "%matplotlib inline\n",
    "\n",
    "import matplotlib.pyplot as plt\n",
    "\n",
    "%load_ext autoreload\n",
    "%autoreload 2\n",
    "\n",
    "sys.path.append(\"../vispol\") \n",
    "from vispolsh import *"
   ]
  },
  {
   "cell_type": "markdown",
   "metadata": {},
   "source": [
    "### create a geodataframe"
   ]
  },
  {
   "cell_type": "code",
   "execution_count": 2,
   "metadata": {},
   "outputs": [],
   "source": [
    "polygons = []\n",
    "    \n",
    "polygons.append(Polygon([[-1,-1],[501,-1],[501,501],[-1,501]]))\n",
    "polygons.append(Polygon([[240,240],[260,240],[260,260],[240,260]]))\n",
    "polygons.append(Polygon([[240,260],[260,260],[260,280],[240,280]]))\n",
    "polygons.append(Polygon([[260,240],[280,240],[280,260],[260,260]]))\n",
    "polygons.append(Polygon([[440,240],[460,240],[460,260],[440,260]]))\n",
    "polygons.append(Polygon([[250,100],[260,140],[240,140]]))\n",
    "polygons.append(Polygon([[280,100],[290,60],[270,60]]))\n",
    "polygons.append(Polygon([[310,100],[320,140],[300,140]]))\n",
    "polygons.append(Polygon([[50,450],[60,370],[70,450]]))\n",
    "polygons.append(Polygon([[450,450],[460,370],[470,450]]))\n",
    "polygons.append(Polygon([[50,50],[60,30],[70,50]]))\n",
    "polygons.append(Polygon([[450,50],[460,30],[470,50]]))\n",
    "polygons.append(Polygon([[140,340],[160,240],[180,340],[360,340],[360,360],[250,390],[140,360]]))\n",
    "polygons.append(Polygon([[140,140],[150,130],[150,145],[165,150],[160,160],[140,160]]))\n",
    "\n",
    "fp = gpd.GeoDataFrame({'geometry':polygons})"
   ]
  },
  {
   "cell_type": "code",
   "execution_count": 4,
   "metadata": {},
   "outputs": [
    {
     "data": {
      "text/plain": [
       "<matplotlib.axes._subplots.AxesSubplot at 0x11faa7160>"
      ]
     },
     "execution_count": 4,
     "metadata": {},
     "output_type": "execute_result"
    },
    {
     "data": {
      "image/png": "[encoded data removed]",
      "text/plain": [
       "<Figure size 432x288 with 1 Axes>"
      ]
     },
     "metadata": {},
     "output_type": "display_data"
    }
   ],
   "source": [
    "f, ax = plt.subplots(1)\n",
    "fp.plot(axes=ax, facecolor=None, edgecolor='black')"
   ]
  },
  {
   "cell_type": "markdown",
   "metadata": {},
   "source": [
    "## compute visiblity polygon"
   ]
  },
  {
   "cell_type": "code",
   "execution_count": 8,
   "metadata": {},
   "outputs": [],
   "source": [
    "VP = VisibilityPolygon()\n",
    "segments = VP.shapely2segments(polygons)\n",
    "# position\n",
    "position = [209, 109]\n",
    "visibility = VP.compute(position, segments)"
   ]
  },
  {
   "cell_type": "code",
   "execution_count": 6,
   "metadata": {},
   "outputs": [
    {
     "data": {
      "text/plain": [
       "<matplotlib.collections.PathCollection at 0x11fbd8dd8>"
      ]
     },
     "execution_count": 6,
     "metadata": {},
     "output_type": "execute_result"
    },
    {
     "data": {
      "image/png": "[encoded data removed]",
      "text/plain": [
       "<Figure size 432x288 with 1 Axes>"
      ]
     },
     "metadata": {},
     "output_type": "display_data"
    }
   ],
   "source": [
    "f, ax = plt.subplots(1)\n",
    "fp.plot(axes=ax, facecolor=\"white\", edgecolor='black')\n",
    "gpd.plotting.plot_polygon_collection(ax, [Polygon(visibility)], facecolor='red', alpha=0.25, linewidth=0.1)\n",
    "gpd.plotting.plot_point_collection(ax, [Point(position)], facecolor='red')"
   ]
  }
 ],
 "metadata": {
  "kernelspec": {
   "display_name": "Python 3",
   "language": "python",
   "name": "python3"
  },
  "language_info": {
   "codemirror_mode": {
    "name": "ipython",
    "version": 3
   },
   "file_extension": ".py",
   "mimetype": "text/x-python",
   "name": "python",
   "nbconvert_exporter": "python",
   "pygments_lexer": "ipython3",
   "version": "3.6.4"
  }
 },
 "nbformat": 4,
 "nbformat_minor": 2
}
